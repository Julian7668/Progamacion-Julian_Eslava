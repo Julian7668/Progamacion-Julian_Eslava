{
 "cells": [
  {
   "attachments": {},
   "cell_type": "markdown",
   "metadata": {},
   "source": [
    "Este es un archivo de prueba, sin actividades =) .\n",
    "\n",
    "A partir del próximo módulo: M03_variablesydatos vas a tener actividades para realizar."
   ]
  },
  {
   "cell_type": "code",
   "execution_count": null,
   "metadata": {},
   "outputs": [
    {
     "ename": "",
     "evalue": "",
     "output_type": "error",
     "traceback": [
      "\u001b[1;31mLa ejecución de celdas con '.venv (Python 3.11.9)' requiere el paquete ipykernel.\n",
      "\u001b[1;31mInstale \"ipykernel\" en el entorno de Python. \n",
      "\u001b[1;31mComando: \"\"c:/Users/julia_xxpoq4c/OneDrive - Secretaria de Educacion del Distrito/Mi PC/Escritorio/Proyectos/Python/Python-Prep-main/.venv/Scripts/python.exe\" -m pip install ipykernel -U --force-reinstall\""
     ]
    }
   ],
   "source": [
    "print('Hola Mundo!')\n",
    "a = 20\n",
    "while a > 0: \n",
    "    \n",
    "    print(a)\n",
    "    a -= 1"
   ]
  }
 ],
 "metadata": {
  "kernelspec": {
   "display_name": ".venv",
   "language": "python",
   "name": "python3"
  },
  "language_info": {
   "codemirror_mode": {
    "name": "ipython",
    "version": 3
   },
   "file_extension": ".py",
   "mimetype": "text/x-python",
   "name": "python",
   "nbconvert_exporter": "python",
   "pygments_lexer": "ipython3",
   "version": "3.11.9"
  },
  "orig_nbformat": 4
 },
 "nbformat": 4,
 "nbformat_minor": 2
}
